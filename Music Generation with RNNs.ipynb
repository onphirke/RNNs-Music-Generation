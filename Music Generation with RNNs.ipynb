{
  "nbformat": 4,
  "nbformat_minor": 0,
  "metadata": {
    "colab": {
      "name": "music gen using basic RNNs.ipynb",
      "provenance": [],
      "collapsed_sections": [],
      "include_colab_link": true
    },
    "kernelspec": {
      "name": "python3",
      "display_name": "Python 3"
    },
    "language_info": {
      "name": "python"
    },
    "widgets": {
      "application/vnd.jupyter.widget-state+json": {
        "c7102622b9874aa2b43566cc726e2cb4": {
          "model_module": "@jupyter-widgets/controls",
          "model_name": "HBoxModel",
          "model_module_version": "1.5.0",
          "state": {
            "_view_name": "HBoxView",
            "_dom_classes": [],
            "_model_name": "HBoxModel",
            "_view_module": "@jupyter-widgets/controls",
            "_model_module_version": "1.5.0",
            "_view_count": null,
            "_view_module_version": "1.5.0",
            "box_style": "",
            "layout": "IPY_MODEL_9848cdfa74014e759abf5ccffa9df847",
            "_model_module": "@jupyter-widgets/controls",
            "children": [
              "IPY_MODEL_382e8494b317439c9dc0e9a61fff2a62",
              "IPY_MODEL_cb7afc8ea9c640c7ab4642d7a7ff8146",
              "IPY_MODEL_4d6ed9ce44cd4c598e68dcee9270cbb3"
            ]
          }
        },
        "9848cdfa74014e759abf5ccffa9df847": {
          "model_module": "@jupyter-widgets/base",
          "model_name": "LayoutModel",
          "model_module_version": "1.2.0",
          "state": {
            "_view_name": "LayoutView",
            "grid_template_rows": null,
            "right": null,
            "justify_content": null,
            "_view_module": "@jupyter-widgets/base",
            "overflow": null,
            "_model_module_version": "1.2.0",
            "_view_count": null,
            "flex_flow": null,
            "width": null,
            "min_width": null,
            "border": null,
            "align_items": null,
            "bottom": null,
            "_model_module": "@jupyter-widgets/base",
            "top": null,
            "grid_column": null,
            "overflow_y": null,
            "overflow_x": null,
            "grid_auto_flow": null,
            "grid_area": null,
            "grid_template_columns": null,
            "flex": null,
            "_model_name": "LayoutModel",
            "justify_items": null,
            "grid_row": null,
            "max_height": null,
            "align_content": null,
            "visibility": null,
            "align_self": null,
            "height": null,
            "min_height": null,
            "padding": null,
            "grid_auto_rows": null,
            "grid_gap": null,
            "max_width": null,
            "order": null,
            "_view_module_version": "1.2.0",
            "grid_template_areas": null,
            "object_position": null,
            "object_fit": null,
            "grid_auto_columns": null,
            "margin": null,
            "display": null,
            "left": null
          }
        },
        "382e8494b317439c9dc0e9a61fff2a62": {
          "model_module": "@jupyter-widgets/controls",
          "model_name": "HTMLModel",
          "model_module_version": "1.5.0",
          "state": {
            "_view_name": "HTMLView",
            "style": "IPY_MODEL_2247404eef6c46049cd3be959c8ea118",
            "_dom_classes": [],
            "description": "",
            "_model_name": "HTMLModel",
            "placeholder": "​",
            "_view_module": "@jupyter-widgets/controls",
            "_model_module_version": "1.5.0",
            "value": "100%",
            "_view_count": null,
            "_view_module_version": "1.5.0",
            "description_tooltip": null,
            "_model_module": "@jupyter-widgets/controls",
            "layout": "IPY_MODEL_f0678c234b3a497791742c1d08d9eacb"
          }
        },
        "cb7afc8ea9c640c7ab4642d7a7ff8146": {
          "model_module": "@jupyter-widgets/controls",
          "model_name": "FloatProgressModel",
          "model_module_version": "1.5.0",
          "state": {
            "_view_name": "ProgressView",
            "style": "IPY_MODEL_3c0437db8b1245aca4c0ca801b96457f",
            "_dom_classes": [],
            "description": "",
            "_model_name": "FloatProgressModel",
            "bar_style": "success",
            "max": 32,
            "_view_module": "@jupyter-widgets/controls",
            "_model_module_version": "1.5.0",
            "value": 32,
            "_view_count": null,
            "_view_module_version": "1.5.0",
            "orientation": "horizontal",
            "min": 0,
            "description_tooltip": null,
            "_model_module": "@jupyter-widgets/controls",
            "layout": "IPY_MODEL_892a799bbbb34746abb22e3f18e7de60"
          }
        },
        "4d6ed9ce44cd4c598e68dcee9270cbb3": {
          "model_module": "@jupyter-widgets/controls",
          "model_name": "HTMLModel",
          "model_module_version": "1.5.0",
          "state": {
            "_view_name": "HTMLView",
            "style": "IPY_MODEL_8522ee2cf577458e9ba796e0d4baa2b9",
            "_dom_classes": [],
            "description": "",
            "_model_name": "HTMLModel",
            "placeholder": "​",
            "_view_module": "@jupyter-widgets/controls",
            "_model_module_version": "1.5.0",
            "value": " 32/32 [00:55&lt;00:00,  1.57s/it]",
            "_view_count": null,
            "_view_module_version": "1.5.0",
            "description_tooltip": null,
            "_model_module": "@jupyter-widgets/controls",
            "layout": "IPY_MODEL_473e0de82d6545a7aaa25263513a91bb"
          }
        },
        "2247404eef6c46049cd3be959c8ea118": {
          "model_module": "@jupyter-widgets/controls",
          "model_name": "DescriptionStyleModel",
          "model_module_version": "1.5.0",
          "state": {
            "_view_name": "StyleView",
            "_model_name": "DescriptionStyleModel",
            "description_width": "",
            "_view_module": "@jupyter-widgets/base",
            "_model_module_version": "1.5.0",
            "_view_count": null,
            "_view_module_version": "1.2.0",
            "_model_module": "@jupyter-widgets/controls"
          }
        },
        "f0678c234b3a497791742c1d08d9eacb": {
          "model_module": "@jupyter-widgets/base",
          "model_name": "LayoutModel",
          "model_module_version": "1.2.0",
          "state": {
            "_view_name": "LayoutView",
            "grid_template_rows": null,
            "right": null,
            "justify_content": null,
            "_view_module": "@jupyter-widgets/base",
            "overflow": null,
            "_model_module_version": "1.2.0",
            "_view_count": null,
            "flex_flow": null,
            "width": null,
            "min_width": null,
            "border": null,
            "align_items": null,
            "bottom": null,
            "_model_module": "@jupyter-widgets/base",
            "top": null,
            "grid_column": null,
            "overflow_y": null,
            "overflow_x": null,
            "grid_auto_flow": null,
            "grid_area": null,
            "grid_template_columns": null,
            "flex": null,
            "_model_name": "LayoutModel",
            "justify_items": null,
            "grid_row": null,
            "max_height": null,
            "align_content": null,
            "visibility": null,
            "align_self": null,
            "height": null,
            "min_height": null,
            "padding": null,
            "grid_auto_rows": null,
            "grid_gap": null,
            "max_width": null,
            "order": null,
            "_view_module_version": "1.2.0",
            "grid_template_areas": null,
            "object_position": null,
            "object_fit": null,
            "grid_auto_columns": null,
            "margin": null,
            "display": null,
            "left": null
          }
        },
        "3c0437db8b1245aca4c0ca801b96457f": {
          "model_module": "@jupyter-widgets/controls",
          "model_name": "ProgressStyleModel",
          "model_module_version": "1.5.0",
          "state": {
            "_view_name": "StyleView",
            "_model_name": "ProgressStyleModel",
            "description_width": "",
            "_view_module": "@jupyter-widgets/base",
            "_model_module_version": "1.5.0",
            "_view_count": null,
            "_view_module_version": "1.2.0",
            "bar_color": null,
            "_model_module": "@jupyter-widgets/controls"
          }
        },
        "892a799bbbb34746abb22e3f18e7de60": {
          "model_module": "@jupyter-widgets/base",
          "model_name": "LayoutModel",
          "model_module_version": "1.2.0",
          "state": {
            "_view_name": "LayoutView",
            "grid_template_rows": null,
            "right": null,
            "justify_content": null,
            "_view_module": "@jupyter-widgets/base",
            "overflow": null,
            "_model_module_version": "1.2.0",
            "_view_count": null,
            "flex_flow": null,
            "width": null,
            "min_width": null,
            "border": null,
            "align_items": null,
            "bottom": null,
            "_model_module": "@jupyter-widgets/base",
            "top": null,
            "grid_column": null,
            "overflow_y": null,
            "overflow_x": null,
            "grid_auto_flow": null,
            "grid_area": null,
            "grid_template_columns": null,
            "flex": null,
            "_model_name": "LayoutModel",
            "justify_items": null,
            "grid_row": null,
            "max_height": null,
            "align_content": null,
            "visibility": null,
            "align_self": null,
            "height": null,
            "min_height": null,
            "padding": null,
            "grid_auto_rows": null,
            "grid_gap": null,
            "max_width": null,
            "order": null,
            "_view_module_version": "1.2.0",
            "grid_template_areas": null,
            "object_position": null,
            "object_fit": null,
            "grid_auto_columns": null,
            "margin": null,
            "display": null,
            "left": null
          }
        },
        "8522ee2cf577458e9ba796e0d4baa2b9": {
          "model_module": "@jupyter-widgets/controls",
          "model_name": "DescriptionStyleModel",
          "model_module_version": "1.5.0",
          "state": {
            "_view_name": "StyleView",
            "_model_name": "DescriptionStyleModel",
            "description_width": "",
            "_view_module": "@jupyter-widgets/base",
            "_model_module_version": "1.5.0",
            "_view_count": null,
            "_view_module_version": "1.2.0",
            "_model_module": "@jupyter-widgets/controls"
          }
        },
        "473e0de82d6545a7aaa25263513a91bb": {
          "model_module": "@jupyter-widgets/base",
          "model_name": "LayoutModel",
          "model_module_version": "1.2.0",
          "state": {
            "_view_name": "LayoutView",
            "grid_template_rows": null,
            "right": null,
            "justify_content": null,
            "_view_module": "@jupyter-widgets/base",
            "overflow": null,
            "_model_module_version": "1.2.0",
            "_view_count": null,
            "flex_flow": null,
            "width": null,
            "min_width": null,
            "border": null,
            "align_items": null,
            "bottom": null,
            "_model_module": "@jupyter-widgets/base",
            "top": null,
            "grid_column": null,
            "overflow_y": null,
            "overflow_x": null,
            "grid_auto_flow": null,
            "grid_area": null,
            "grid_template_columns": null,
            "flex": null,
            "_model_name": "LayoutModel",
            "justify_items": null,
            "grid_row": null,
            "max_height": null,
            "align_content": null,
            "visibility": null,
            "align_self": null,
            "height": null,
            "min_height": null,
            "padding": null,
            "grid_auto_rows": null,
            "grid_gap": null,
            "max_width": null,
            "order": null,
            "_view_module_version": "1.2.0",
            "grid_template_areas": null,
            "object_position": null,
            "object_fit": null,
            "grid_auto_columns": null,
            "margin": null,
            "display": null,
            "left": null
          }
        }
      }
    },
    "accelerator": "GPU"
  },
  "cells": [
    {
      "cell_type": "markdown",
      "metadata": {
        "id": "view-in-github",
        "colab_type": "text"
      },
      "source": [
        "<a href=\"https://colab.research.google.com/github/JUICEMAN123/Music-Generation-Variety/blob/main/Music%20Generation%20with%20RNNs.ipynb\" target=\"_parent\"><img src=\"https://colab.research.google.com/assets/colab-badge.svg\" alt=\"Open In Colab\"/></a>"
      ]
    },
    {
      "cell_type": "code",
      "metadata": {
        "colab": {
          "base_uri": "https://localhost:8080/"
        },
        "id": "A1QlWkxkw1QU",
        "outputId": "9c6a495c-c685-4cdf-f4e2-aaf3427ed1eb"
      },
      "source": [
        "from google.colab import drive\n",
        "drive.mount('/content/drive')"
      ],
      "execution_count": 1,
      "outputs": [
        {
          "output_type": "stream",
          "name": "stdout",
          "text": [
            "Mounted at /content/drive\n"
          ]
        }
      ]
    },
    {
      "cell_type": "code",
      "metadata": {
        "colab": {
          "base_uri": "https://localhost:8080/"
        },
        "id": "Hk7e76C9USFY",
        "outputId": "b4e791bc-a572-4a47-e830-e7227aa4b0ea"
      },
      "source": [
        "!pip install pretty_midi"
      ],
      "execution_count": 2,
      "outputs": [
        {
          "output_type": "stream",
          "name": "stdout",
          "text": [
            "Collecting pretty_midi\n",
            "  Downloading pretty_midi-0.2.9.tar.gz (5.6 MB)\n",
            "\u001b[K     |████████████████████████████████| 5.6 MB 16.1 MB/s \n",
            "\u001b[?25hRequirement already satisfied: numpy>=1.7.0 in /usr/local/lib/python3.7/dist-packages (from pretty_midi) (1.19.5)\n",
            "Collecting mido>=1.1.16\n",
            "  Downloading mido-1.2.10-py2.py3-none-any.whl (51 kB)\n",
            "\u001b[K     |████████████████████████████████| 51 kB 7.4 MB/s \n",
            "\u001b[?25hRequirement already satisfied: six in /usr/local/lib/python3.7/dist-packages (from pretty_midi) (1.15.0)\n",
            "Building wheels for collected packages: pretty-midi\n",
            "  Building wheel for pretty-midi (setup.py) ... \u001b[?25l\u001b[?25hdone\n",
            "  Created wheel for pretty-midi: filename=pretty_midi-0.2.9-py3-none-any.whl size=5591955 sha256=90b8c04c274243b477ed3ea4eb792e89d5824a91aa6b655e6f5df432bf3e040c\n",
            "  Stored in directory: /root/.cache/pip/wheels/ad/74/7c/a06473ca8dcb63efb98c1e67667ce39d52100f837835ea18fa\n",
            "Successfully built pretty-midi\n",
            "Installing collected packages: mido, pretty-midi\n",
            "Successfully installed mido-1.2.10 pretty-midi-0.2.9\n"
          ]
        }
      ]
    },
    {
      "cell_type": "code",
      "metadata": {
        "id": "Mv649gEYCTfW",
        "colab": {
          "base_uri": "https://localhost:8080/"
        },
        "outputId": "dfe37f37-88d6-4cfd-c376-46adeb1a1ec6"
      },
      "source": [
        "import os\n",
        "import numpy as np\n",
        "import json\n",
        "import tensorflow as tf\n",
        "from tensorflow.keras import layers, regularizers, models\n",
        "import pretty_midi\n",
        "from PIL import Image\n",
        "import matplotlib.pyplot as plt\n",
        "\n",
        "import time\n",
        "import logging\n",
        "import pathlib\n",
        "from tqdm.autonotebook import tqdm\n",
        "import pandas as pd\n",
        "\n",
        "import random\n",
        "\n",
        "from IPython import display"
      ],
      "execution_count": 3,
      "outputs": [
        {
          "output_type": "stream",
          "name": "stderr",
          "text": [
            "/usr/local/lib/python3.7/dist-packages/ipykernel_launcher.py:13: TqdmExperimentalWarning: Using `tqdm.autonotebook.tqdm` in notebook mode. Use `tqdm.tqdm` instead to force console mode (e.g. in jupyter console)\n",
            "  del sys.path[0]\n"
          ]
        }
      ]
    },
    {
      "cell_type": "code",
      "metadata": {
        "colab": {
          "base_uri": "https://localhost:8080/",
          "height": 35
        },
        "id": "QlXpWlBQ1N9q",
        "outputId": "efd02eb8-eee2-4eb6-aaf3-411e960de230"
      },
      "source": [
        "tf.version.VERSION"
      ],
      "execution_count": 4,
      "outputs": [
        {
          "output_type": "execute_result",
          "data": {
            "application/vnd.google.colaboratory.intrinsic+json": {
              "type": "string"
            },
            "text/plain": [
              "'2.7.0'"
            ]
          },
          "metadata": {},
          "execution_count": 4
        }
      ]
    },
    {
      "cell_type": "code",
      "metadata": {
        "id": "x-41muqk1OYp"
      },
      "source": [
        "logging.getLogger('tensorflow').setLevel(logging.ERROR)  # suppress warnings"
      ],
      "execution_count": 5,
      "outputs": []
    },
    {
      "cell_type": "code",
      "metadata": {
        "id": "ZT4GDx-DExfv"
      },
      "source": [
        "path = '/content/drive/MyDrive/maestro-v3.0.0-midi/maestro-v3.0.0/2018'\n",
        "\n",
        "os.chdir(path)\n",
        "midi_paths = []\n",
        "for fn in os.listdir():\n",
        "  midi_paths.append(path+'/'+fn)\n",
        "\n",
        "os.chdir('/content')"
      ],
      "execution_count": 6,
      "outputs": []
    },
    {
      "cell_type": "code",
      "metadata": {
        "id": "8d9d9EM-JKYz"
      },
      "source": [
        "new_dir = '/content/drive/MyDrive/maestro_midi_images/'"
      ],
      "execution_count": 7,
      "outputs": []
    },
    {
      "cell_type": "code",
      "metadata": {
        "id": "tSc4-Gb613z3"
      },
      "source": [
        "FS = 10\n",
        "midi_dims = 127\n",
        "seq_len = 250"
      ],
      "execution_count": 8,
      "outputs": []
    },
    {
      "cell_type": "code",
      "metadata": {
        "id": "5GNaIseQUajT"
      },
      "source": [
        "def midi2proll(filename):\n",
        "  midi_pretty_format = pretty_midi.PrettyMIDI(filename)\n",
        "  midi_piano = midi_pretty_format.instruments[0]\n",
        "  midi_piano_roll = midi_piano.get_piano_roll(fs=FS)\n",
        "  return midi_piano_roll # returns piano roll in format (128 notes, time)\n",
        "\n",
        "def proll2midi(proll):\n",
        "  notes, frames = proll.shape\n",
        "  pm = pretty_midi.PrettyMIDI()\n",
        "  instrument = pretty_midi.Instrument(program=0)\n",
        "\n",
        "  proll = np.pad(proll, [(0, 0), (1, 1)], 'constant')\n",
        "  velocity_changes = np.nonzero(np.diff(proll).T)\n",
        "\n",
        "  prev_velocities = np.zeros(notes, dtype=int)\n",
        "  note_on_time = np.zeros(notes)\n",
        "\n",
        "  for time, note in zip(*velocity_changes):\n",
        "      velocity = proll[note, time + 1]\n",
        "      time = time / FS\n",
        "      if velocity > 0:\n",
        "          if prev_velocities[note] == 0:\n",
        "              note_on_time[note] = time\n",
        "              prev_velocities[note] = velocity\n",
        "      else:\n",
        "          pm_note = pretty_midi.Note(\n",
        "              velocity=prev_velocities[note],\n",
        "              pitch=note,\n",
        "              start=note_on_time[note],\n",
        "              end=time)\n",
        "          instrument.notes.append(pm_note)\n",
        "          prev_velocities[note] = 0\n",
        "  pm.instruments.append(instrument)\n",
        "  return pm\n",
        "\n",
        "def proll2img(proll, show=False):\n",
        "  im = Image.fromarray(np.uint8(proll))\n",
        "  if show:\n",
        "    plt.imshow(np.asarray(im), aspect='auto', cmap='gray')\n",
        "  return im\n",
        "\n",
        "def proll2notelist(proll):\n",
        "  pnotelist = []\n",
        "  for t, tarr in enumerate(np.transpose(proll)):\n",
        "    pnotelist.append([])\n",
        "    for n, val in enumerate(tarr):\n",
        "      if(val > 0):\n",
        "        pnotelist[t].append(str(n))          \n",
        "  return pnotelist\n",
        "\n",
        "def pnotelist2proll(pnotelist):\n",
        "  proll = np.zeros((midi_dims, len(pnotelist)))\n",
        "  for t, notes in enumerate(pnotelist):\n",
        "    for n in notes:\n",
        "      proll[n][t] = 1\n",
        "  return proll"
      ],
      "execution_count": 9,
      "outputs": []
    },
    {
      "cell_type": "code",
      "metadata": {
        "id": "D0lvlECwu7JQ"
      },
      "source": [
        "def transform_pnotelist(pnotelist):\n",
        "  transformed_pnotelist = []\n",
        "  for notes in pnotelist:\n",
        "    transformed_pnotelist.append(','.join(notes))\n",
        "  return np.asarray(transformed_pnotelist)\n",
        "\n",
        "def untransform_pnotelist(pnotelist):\n",
        "  untransformed_pnotelist = []\n",
        "  for t in pnotelist:\n",
        "    notes = t.split(',')\n",
        "    notes = [int(n) for n in notes]\n",
        "    untransformed_pnotelist.append(notes)\n",
        "  return untransformed_pnotelist\n",
        "\n",
        "def chop(arr, chop_size):\n",
        "  chops = np.asarray(np.arange(chop_size, len(arr), chop_size))\n",
        "  chunks = np.split(arr, chops, axis=0)\n",
        "  return chunks[:-1]\n",
        "\n",
        "def get_all_sequences(filepaths, chop_size=seq_len+1):\n",
        "  all_seq = []\n",
        "  for i, fp in tqdm(enumerate(filepaths), total=len(filepaths)):\n",
        "    chunks = chop(transform_pnotelist(proll2notelist(midi2proll(fp))), chop_size)\n",
        "    all_seq.extend(chunks)\n",
        "  all_seq = np.asarray(all_seq)\n",
        "  return all_seq\n",
        "\n",
        "def pad_array(arr, target_length):\n",
        "  if target_length < np.shape(arr)[0]:\n",
        "    return arr[:target_length]\n",
        "  padding = np.full((target_length - np.shape(arr)[0],), '')\n",
        "  return np.concatenate([arr, padding])"
      ],
      "execution_count": 10,
      "outputs": []
    },
    {
      "cell_type": "code",
      "metadata": {
        "id": "bIf_MLl-8S3p",
        "colab": {
          "base_uri": "https://localhost:8080/",
          "height": 49,
          "referenced_widgets": [
            "c7102622b9874aa2b43566cc726e2cb4",
            "9848cdfa74014e759abf5ccffa9df847",
            "382e8494b317439c9dc0e9a61fff2a62",
            "cb7afc8ea9c640c7ab4642d7a7ff8146",
            "4d6ed9ce44cd4c598e68dcee9270cbb3",
            "2247404eef6c46049cd3be959c8ea118",
            "f0678c234b3a497791742c1d08d9eacb",
            "3c0437db8b1245aca4c0ca801b96457f",
            "892a799bbbb34746abb22e3f18e7de60",
            "8522ee2cf577458e9ba796e0d4baa2b9",
            "473e0de82d6545a7aaa25263513a91bb"
          ]
        },
        "outputId": "48df60cc-0afc-4b36-f5e2-dc49f9c19ff4"
      },
      "source": [
        "all_seq = get_all_sequences(midi_paths[:32])\n",
        "musical_corpus = np.concatenate(all_seq)"
      ],
      "execution_count": 11,
      "outputs": [
        {
          "output_type": "display_data",
          "data": {
            "application/vnd.jupyter.widget-view+json": {
              "model_id": "c7102622b9874aa2b43566cc726e2cb4",
              "version_minor": 0,
              "version_major": 2
            },
            "text/plain": [
              "  0%|          | 0/32 [00:00<?, ?it/s]"
            ]
          },
          "metadata": {}
        }
      ]
    },
    {
      "cell_type": "code",
      "metadata": {
        "id": "LTfxEvhT_SZI",
        "colab": {
          "base_uri": "https://localhost:8080/"
        },
        "outputId": "f7d46cc6-af5c-4117-ba29-8305594c25e6"
      },
      "source": [
        "print(np.shape(all_seq))\n",
        "all_seq"
      ],
      "execution_count": 12,
      "outputs": [
        {
          "output_type": "stream",
          "name": "stdout",
          "text": [
            "(1182, 251)\n"
          ]
        },
        {
          "output_type": "execute_result",
          "data": {
            "text/plain": [
              "array([['', '', '', ..., '45,57,69,73,76', '45,57,69,73,76',\n",
              "        '45,57,69,73,76'],\n",
              "       ['45,57,69,73,76', '45,57,69,73,76', '45,57,69,73,76', ...,\n",
              "        '62,69,77', '62,69,78', '62,66,77'],\n",
              "       ['62,66,78', '62,69,77', '62,69,78', ..., '62,66,79', '62',\n",
              "        '62,69'],\n",
              "       ...,\n",
              "       ['', '48', '48', ..., '55,58,65,82,94', '', ''],\n",
              "       ['75', '', '', ..., '', '68,77', '68,73,77,80'],\n",
              "       ['49,68,73,77,80', '49,68,73,77,80', '49,68,73,77,80', ...,\n",
              "        '51,59,60,62,63,77,80,89,92', '51,59,60,62,63,77,80,89,92',\n",
              "        '51,59,60,62,63,77,80,89,92']], dtype='<U128')"
            ]
          },
          "metadata": {},
          "execution_count": 12
        }
      ]
    },
    {
      "cell_type": "code",
      "metadata": {
        "id": "gUW94ud6AhfH",
        "colab": {
          "base_uri": "https://localhost:8080/"
        },
        "outputId": "d7d3b13a-cd45-4ab4-dee1-d910767f9f13"
      },
      "source": [
        "FINAL_VOCAB_SIZE = 50000\n",
        "\n",
        "vocab_size = np.shape(np.unique(musical_corpus))[0]\n",
        "print('Base Vocab Size', vocab_size)\n",
        "\n",
        "vec = layers.TextVectorization(max_tokens=FINAL_VOCAB_SIZE + 1, standardize=None, split=None)\n",
        "vec.adapt(musical_corpus)\n",
        "vocabulary = vec.get_vocabulary()\n",
        "vocabulary.remove('[UNK]')\n",
        "\n",
        "print('Final Vocab Size', len(vocabulary))"
      ],
      "execution_count": 13,
      "outputs": [
        {
          "output_type": "stream",
          "name": "stdout",
          "text": [
            "Base Vocab Size 56107\n",
            "Final Vocab Size 50000\n"
          ]
        }
      ]
    },
    {
      "cell_type": "code",
      "metadata": {
        "id": "ojPEfjhqrgd7"
      },
      "source": [
        "ids_from_chars = tf.keras.layers.experimental.preprocessing.StringLookup(vocabulary=vocabulary, mask_token=None)\n",
        "chars_from_ids = tf.keras.layers.experimental.preprocessing.StringLookup(vocabulary=ids_from_chars.get_vocabulary(), invert=True, mask_token=None)"
      ],
      "execution_count": 14,
      "outputs": []
    },
    {
      "cell_type": "code",
      "metadata": {
        "id": "U3C7GNehQL9S"
      },
      "source": [
        "all_seq_vectorized = ids_from_chars(all_seq)"
      ],
      "execution_count": 15,
      "outputs": []
    },
    {
      "cell_type": "code",
      "metadata": {
        "id": "uKJ7Na5Ksc33",
        "colab": {
          "base_uri": "https://localhost:8080/"
        },
        "outputId": "dadab828-a3cd-4fdb-e76b-202a88da5efd"
      },
      "source": [
        "all_seq_vectorized"
      ],
      "execution_count": 16,
      "outputs": [
        {
          "output_type": "execute_result",
          "data": {
            "text/plain": [
              "<tf.Tensor: shape=(1182, 251), dtype=int64, numpy=\n",
              "array([[    1,     1,     1, ...,  4141,  4141,  4141],\n",
              "       [ 4141,  4141,  4141, ...,   928,   167,  3177],\n",
              "       [  338,   928,   167, ...,  2655,     4,   182],\n",
              "       ...,\n",
              "       [    1,    35,    35, ..., 38831,     1,     1],\n",
              "       [   15,     1,     1, ...,     1,  1908, 16624],\n",
              "       [10899, 10899, 10899, ..., 18572, 18572, 18572]])>"
            ]
          },
          "metadata": {},
          "execution_count": 16
        }
      ]
    },
    {
      "cell_type": "code",
      "metadata": {
        "id": "PeF0LiRTBOgm"
      },
      "source": [
        "def data_target_split(all_seq):\n",
        "  return all_seq[:, :-1], all_seq[:, 1:]"
      ],
      "execution_count": 17,
      "outputs": []
    },
    {
      "cell_type": "code",
      "metadata": {
        "id": "fLgLhiCFBgEe"
      },
      "source": [
        "train_data, train_target = data_target_split(all_seq_vectorized)"
      ],
      "execution_count": 18,
      "outputs": []
    },
    {
      "cell_type": "code",
      "metadata": {
        "id": "C-Y5ujtS_c6o"
      },
      "source": [
        "TOTAL_SIZE = np.shape(train_data)[0]\n",
        "BATCH_SIZE = 32\n",
        "N_TRAIN_BATCHES = int(TOTAL_SIZE/BATCH_SIZE)\n",
        "N_TEST_BATCHES = N_TRAIN_BATCHES"
      ],
      "execution_count": 19,
      "outputs": []
    },
    {
      "cell_type": "code",
      "metadata": {
        "id": "2VwLuTz3_98S"
      },
      "source": [
        "train_dataset = (\n",
        "    tf.data.Dataset.from_tensor_slices((train_data, train_target))\n",
        "    .cache()\n",
        "    .shuffle(10000)\n",
        "    .batch(BATCH_SIZE, drop_remainder=True)\n",
        "    .prefetch(tf.data.AUTOTUNE)\n",
        ")\n",
        "\n",
        "test_dataset = train_dataset"
      ],
      "execution_count": 20,
      "outputs": []
    },
    {
      "cell_type": "code",
      "metadata": {
        "id": "13cSkQBJ56L1",
        "colab": {
          "base_uri": "https://localhost:8080/"
        },
        "outputId": "8877b066-7c42-4743-a75b-770cce015830"
      },
      "source": [
        "train_dataset"
      ],
      "execution_count": 21,
      "outputs": [
        {
          "output_type": "execute_result",
          "data": {
            "text/plain": [
              "<PrefetchDataset shapes: ((32, 250), (32, 250)), types: (tf.int64, tf.int64)>"
            ]
          },
          "metadata": {},
          "execution_count": 21
        }
      ]
    },
    {
      "cell_type": "markdown",
      "metadata": {
        "id": "rA6ExT4j4xsB"
      },
      "source": [
        "# Model"
      ]
    },
    {
      "cell_type": "code",
      "metadata": {
        "id": "KLADYmAS6GJx"
      },
      "source": [
        "vocab_size = len(ids_from_chars.get_vocabulary())\n",
        "embedding_dim = 128\n",
        "rnn_units = 384\n",
        "dropout_prop = 0.4\n",
        "input_shape = (BATCH_SIZE, seq_len)"
      ],
      "execution_count": 22,
      "outputs": []
    },
    {
      "cell_type": "code",
      "metadata": {
        "id": "y1tqp_VZyVuc"
      },
      "source": [
        "class BasicStoryGenerator(tf.keras.Model):\n",
        "  def __init__(self, vocab_size, embedding_dim, rnn_units, dropout_prop):\n",
        "    super().__init__(self)\n",
        "    self.embedding = tf.keras.layers.Embedding(vocab_size, embedding_dim)\n",
        "    self.gru1 = tf.keras.layers.GRU(rnn_units,\n",
        "                                   return_sequences=True,\n",
        "                                   return_state=True,\n",
        "                                   dropout=dropout_prop)\n",
        "    self.gru2 = tf.keras.layers.GRU(rnn_units,\n",
        "                                   return_sequences=True,\n",
        "                                   return_state=True,\n",
        "                                   dropout=dropout_prop)\n",
        "    self.dense = tf.keras.layers.Dense(vocab_size)\n",
        "\n",
        "  def call(self, inputs, states1=None, states2=None, return_state=False, training=False):\n",
        "    x = inputs\n",
        "    x = self.embedding(x, training=training)\n",
        "    if states1 is None:\n",
        "      states1 = self.gru1.get_initial_state(x)\n",
        "    x, states1 = self.gru1(x, initial_state=states1, training=training)\n",
        "    if states2 is None:\n",
        "      states2 = self.gru2.get_initial_state(x)\n",
        "    x, states2 = self.gru2(x, initial_state=states2, training=training)\n",
        "    x = self.dense(x, training=training)\n",
        "\n",
        "    if return_state:\n",
        "      return x, states1, states2\n",
        "    else:\n",
        "      return x"
      ],
      "execution_count": 23,
      "outputs": []
    },
    {
      "cell_type": "code",
      "metadata": {
        "id": "SQ9ixJfcyrQs"
      },
      "source": [
        "model = BasicStoryGenerator(\n",
        "    vocab_size=vocab_size,\n",
        "    embedding_dim=embedding_dim,\n",
        "    rnn_units=rnn_units,\n",
        "    dropout_prop=dropout_prop)"
      ],
      "execution_count": 24,
      "outputs": []
    },
    {
      "cell_type": "code",
      "metadata": {
        "id": "oIADrmZ340er",
        "colab": {
          "base_uri": "https://localhost:8080/"
        },
        "outputId": "a6e4a9a5-2169-4e9a-cf19-9588733d58a7"
      },
      "source": [
        "model.build(input_shape=input_shape)\n",
        "model.summary()"
      ],
      "execution_count": 25,
      "outputs": [
        {
          "output_type": "stream",
          "name": "stdout",
          "text": [
            "Model: \"basic_story_generator\"\n",
            "_________________________________________________________________\n",
            " Layer (type)                Output Shape              Param #   \n",
            "=================================================================\n",
            " embedding (Embedding)       multiple                  6400128   \n",
            "                                                                 \n",
            " gru (GRU)                   multiple                  592128    \n",
            "                                                                 \n",
            " gru_1 (GRU)                 multiple                  887040    \n",
            "                                                                 \n",
            " dense (Dense)               multiple                  19250385  \n",
            "                                                                 \n",
            "=================================================================\n",
            "Total params: 27,129,681\n",
            "Trainable params: 27,129,681\n",
            "Non-trainable params: 0\n",
            "_________________________________________________________________\n"
          ]
        }
      ]
    },
    {
      "cell_type": "code",
      "metadata": {
        "id": "1vO5LEvE5Yk6"
      },
      "source": [
        "model.compile(optimizer=tf.keras.optimizers.Adam(), loss=tf.losses.SparseCategoricalCrossentropy(from_logits=True))"
      ],
      "execution_count": 26,
      "outputs": []
    },
    {
      "cell_type": "markdown",
      "metadata": {
        "id": "5dW-A7A85UOa"
      },
      "source": [
        "# Train Model"
      ]
    },
    {
      "cell_type": "markdown",
      "metadata": {
        "id": "vjUHSpQ_7eMJ"
      },
      "source": [
        "**Setup Checkpoints**"
      ]
    },
    {
      "cell_type": "code",
      "metadata": {
        "colab": {
          "base_uri": "https://localhost:8080/"
        },
        "id": "ojpopASYqvAy",
        "outputId": "04888827-6b97-4f08-9773-d9931c9a4eac"
      },
      "source": [
        "!pwd"
      ],
      "execution_count": 27,
      "outputs": [
        {
          "output_type": "stream",
          "name": "stdout",
          "text": [
            "/content\n"
          ]
        }
      ]
    },
    {
      "cell_type": "code",
      "metadata": {
        "id": "TdmMr1YK7xId"
      },
      "source": [
        "checkpoint_dir = './training_checkpoints'\n",
        "checkpoint_prefix = os.path.join(checkpoint_dir, 'ckpt_{epoch}')\n",
        "\n",
        "checkpoint_callback = tf.keras.callbacks.ModelCheckpoint(\n",
        "    filepath=checkpoint_prefix,\n",
        "    save_weights_only=True,\n",
        "    save_freq=N_TRAIN_BATCHES*5)"
      ],
      "execution_count": 28,
      "outputs": []
    },
    {
      "cell_type": "markdown",
      "metadata": {
        "id": "bnUXtJLIAgrB"
      },
      "source": [
        "**Fit Model**"
      ]
    },
    {
      "cell_type": "markdown",
      "metadata": {
        "id": "CaS1sFBl_hYU"
      },
      "source": [
        "Might need to reduce vocabulary size as the number of parameters is enormous."
      ]
    },
    {
      "cell_type": "code",
      "metadata": {
        "id": "ueh-Mzy8AJCz"
      },
      "source": [
        "EPOCHS = 25"
      ],
      "execution_count": 60,
      "outputs": []
    },
    {
      "cell_type": "code",
      "metadata": {
        "id": "6q55UFq47x6J",
        "colab": {
          "base_uri": "https://localhost:8080/"
        },
        "outputId": "e266ac74-d2b7-4636-9508-4731d3828b7f"
      },
      "source": [
        "history = model.fit(train_dataset, epochs=EPOCHS, callbacks=[checkpoint_callback])"
      ],
      "execution_count": 61,
      "outputs": [
        {
          "output_type": "stream",
          "name": "stdout",
          "text": [
            "Epoch 1/25\n",
            "36/36 [==============================] - 14s 401ms/step - loss: 4.5694\n",
            "Epoch 2/25\n",
            "36/36 [==============================] - 15s 408ms/step - loss: 4.3945\n",
            "Epoch 3/25\n",
            "36/36 [==============================] - 15s 410ms/step - loss: 4.2382\n",
            "Epoch 4/25\n",
            "36/36 [==============================] - 16s 441ms/step - loss: 4.0648\n",
            "Epoch 5/25\n",
            "36/36 [==============================] - 15s 422ms/step - loss: 3.8840\n",
            "Epoch 6/25\n",
            "36/36 [==============================] - 15s 427ms/step - loss: 3.7213\n",
            "Epoch 7/25\n",
            "36/36 [==============================] - 15s 431ms/step - loss: 3.5698\n",
            "Epoch 8/25\n",
            "36/36 [==============================] - 16s 431ms/step - loss: 3.4247\n",
            "Epoch 9/25\n",
            "36/36 [==============================] - 17s 462ms/step - loss: 3.2976\n",
            "Epoch 10/25\n",
            "36/36 [==============================] - 16s 440ms/step - loss: 3.1837\n",
            "Epoch 11/25\n",
            "36/36 [==============================] - 16s 437ms/step - loss: 3.0595\n",
            "Epoch 12/25\n",
            "36/36 [==============================] - 16s 437ms/step - loss: 2.9688\n",
            "Epoch 13/25\n",
            "36/36 [==============================] - 16s 440ms/step - loss: 2.8621\n",
            "Epoch 14/25\n",
            "36/36 [==============================] - 17s 469ms/step - loss: 2.7735\n",
            "Epoch 15/25\n",
            "36/36 [==============================] - 16s 439ms/step - loss: 2.6938\n",
            "Epoch 16/25\n",
            "36/36 [==============================] - 16s 433ms/step - loss: 2.6132\n",
            "Epoch 17/25\n",
            "36/36 [==============================] - 16s 439ms/step - loss: 2.5296\n",
            "Epoch 18/25\n",
            "36/36 [==============================] - 16s 439ms/step - loss: 2.4714\n",
            "Epoch 19/25\n",
            "36/36 [==============================] - 17s 462ms/step - loss: 2.4052\n",
            "Epoch 20/25\n",
            "36/36 [==============================] - 16s 441ms/step - loss: 2.3446\n",
            "Epoch 21/25\n",
            "36/36 [==============================] - 16s 437ms/step - loss: 2.2887\n",
            "Epoch 22/25\n",
            "36/36 [==============================] - 16s 440ms/step - loss: 2.2412\n",
            "Epoch 23/25\n",
            "36/36 [==============================] - 16s 436ms/step - loss: 2.1974\n",
            "Epoch 24/25\n",
            "36/36 [==============================] - 17s 463ms/step - loss: 2.1354\n",
            "Epoch 25/25\n",
            "36/36 [==============================] - 16s 439ms/step - loss: 2.1018\n"
          ]
        }
      ]
    },
    {
      "cell_type": "markdown",
      "metadata": {
        "id": "PTPgJp5SBFPg"
      },
      "source": [
        "# Generate Text"
      ]
    },
    {
      "cell_type": "markdown",
      "metadata": {
        "id": "tPCGWdpzDLfX"
      },
      "source": [
        "**Parameters**"
      ]
    },
    {
      "cell_type": "code",
      "metadata": {
        "id": "FeXLgjudDPag"
      },
      "source": [
        "class OneStep(tf.keras.Model):\n",
        "  def __init__(self, model, chars_from_ids, ids_from_chars, temperature=1.0):\n",
        "    super().__init__()\n",
        "    self.temperature = temperature\n",
        "    self.model = model\n",
        "    self.chars_from_ids = chars_from_ids\n",
        "    self.ids_from_chars = ids_from_chars\n",
        "\n",
        "    # Create a mask to prevent \"[UNK]\" from being generated.\n",
        "    skip_ids = self.ids_from_chars(['[UNK]', ''])[:, None]\n",
        "    sparse_mask = tf.SparseTensor(\n",
        "        # Put a -inf at each bad index.\n",
        "        values=[-float('inf')]*len(skip_ids),\n",
        "        indices=skip_ids,\n",
        "        # Match the shape to the vocabulary\n",
        "        dense_shape=[len(ids_from_chars.get_vocabulary())])\n",
        "    self.prediction_mask = tf.sparse.to_dense(sparse_mask)\n",
        "\n",
        "  @tf.function\n",
        "  def generate_one_step(self, inputs, states1=None, states2=None):\n",
        "    # Convert strings to token IDs.\n",
        "    input_chars = tf.strings.unicode_split(inputs, 'UTF-8')\n",
        "    input_ids = self.ids_from_chars(input_chars).to_tensor()\n",
        "\n",
        "    # Run the model.\n",
        "    # predicted_logits.shape is [batch, char, next_char_logits]\n",
        "    predicted_logits, states1, states2 = self.model(inputs=input_ids, states1=states1, states2=states2, return_state=True)\n",
        "    # Only use the last prediction.\n",
        "    predicted_logits = predicted_logits[:, -1, :]\n",
        "    predicted_logits = predicted_logits/self.temperature\n",
        "    # Apply the prediction mask: prevent \"[UNK]\" from being generated.\n",
        "    predicted_logits = predicted_logits + self.prediction_mask\n",
        "\n",
        "    # Sample the output logits to generate token IDs.\n",
        "    predicted_ids = tf.random.categorical(predicted_logits, num_samples=1)\n",
        "    predicted_ids = tf.squeeze(predicted_ids, axis=-1)\n",
        "\n",
        "    # Convert from token ids to characters\n",
        "    predicted_chars = self.chars_from_ids(predicted_ids)\n",
        "\n",
        "    # Return the characters and model state.\n",
        "    return predicted_chars, states1, states2"
      ],
      "execution_count": 62,
      "outputs": []
    },
    {
      "cell_type": "code",
      "metadata": {
        "id": "YMYhIkhtIxuJ"
      },
      "source": [
        "one_step_model = OneStep(model, chars_from_ids, ids_from_chars, temperature=0.7)"
      ],
      "execution_count": 66,
      "outputs": []
    },
    {
      "cell_type": "code",
      "metadata": {
        "id": "n_SBbzYJJlB9",
        "colab": {
          "base_uri": "https://localhost:8080/"
        },
        "outputId": "a144f271-6db8-4fb5-ea9e-7c0194da6f4b"
      },
      "source": [
        "start = time.time()\n",
        "states1, states2 = None, None\n",
        "start_char = chars_from_ids(random.randrange(1, 100)).numpy().decode('utf-8')\n",
        "next_char = tf.constant([start_char])\n",
        "result = [tf.squeeze(next_char).numpy()]\n",
        "\n",
        "for n in range(250):\n",
        "  next_char, states1, states2 = one_step_model.generate_one_step(next_char, states1=states1, states2=states2)\n",
        "  result.append(tf.squeeze(next_char).numpy())\n",
        "\n",
        "\n",
        "result = np.array([t.decode('utf-8') for t in result])\n",
        "end = time.time()\n",
        "# print(result, '\\n\\n' + '_'*80)\n",
        "print('\\nRun time:', end - start)"
      ],
      "execution_count": 67,
      "outputs": [
        {
          "output_type": "stream",
          "name": "stdout",
          "text": [
            "\n",
            "Run time: 4.877634525299072\n"
          ]
        }
      ]
    },
    {
      "cell_type": "code",
      "metadata": {
        "id": "5mmb41-d9bZg",
        "colab": {
          "base_uri": "https://localhost:8080/",
          "height": 268
        },
        "outputId": "235336b9-6f2b-47e9-d7b4-facc4d811acb"
      },
      "source": [
        "proll = pnotelist2proll(untransform_pnotelist(result)) * 64\n",
        "img = proll2img(proll, show=True)"
      ],
      "execution_count": 68,
      "outputs": [
        {
          "output_type": "display_data",
          "data": {
            "image/png": "[encoded data removed]",
            "text/plain": [
              "<Figure size 432x288 with 1 Axes>"
            ]
          },
          "metadata": {
            "needs_background": "light"
          }
        }
      ]
    },
    {
      "cell_type": "code",
      "metadata": {
        "id": "QY9W1Q4G76E8"
      },
      "source": [
        "target_dir = '/content/drive/MyDrive/rnn-music-midis/'"
      ],
      "execution_count": 69,
      "outputs": []
    },
    {
      "cell_type": "code",
      "metadata": {
        "id": "vyZ7iSt77zIW"
      },
      "source": [
        "proll2midi(proll).write(target_dir + str(len(os.listdir(target_dir))) + '.mid')"
      ],
      "execution_count": 70,
      "outputs": []
    },
    {
      "cell_type": "code",
      "metadata": {
        "id": "cAJwUpZnqGB0"
      },
      "source": [
        "# model.save_weights('/content/drive/MyDrive/rnn-music-midis/models')"
      ],
      "execution_count": null,
      "outputs": []
    },
    {
      "cell_type": "code",
      "metadata": {
        "id": "cXK0h5wwqNDX"
      },
      "source": [
        ""
      ],
      "execution_count": null,
      "outputs": []
    }
  ]
}